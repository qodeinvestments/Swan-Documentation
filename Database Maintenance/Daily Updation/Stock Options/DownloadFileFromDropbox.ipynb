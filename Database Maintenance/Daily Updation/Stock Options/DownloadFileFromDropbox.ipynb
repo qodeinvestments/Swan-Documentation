{
 "cells": [
  {
   "cell_type": "code",
   "execution_count": 5,
   "id": "64cfdbd1",
   "metadata": {},
   "outputs": [],
   "source": [
    "import requests, zipfile, io\n",
    "import pandas as pd\n",
    "from io import BytesIO\n",
    "from datetime import datetime\n",
    "import os\n",
    "import calendar\n",
    "import time"
   ]
  },
  {
   "cell_type": "code",
   "execution_count": 6,
   "id": "1e48f819",
   "metadata": {},
   "outputs": [],
   "source": [
    "################################# INPUTS #####################################################\n",
    "zip_file_url = \"https://www.dropbox.com/sh/x9bq9jtduky1hka/AABP6AZi8Jclu1Urwx_zDzJAa?dl=0\"\n",
    "output_path = r\"C:\\Users\\ADMIN\\Downloads\\\\\"\n",
    "common_drive_path = r\"\\\\Imac2\\f\\All Databases\\Options (Updated as of 29122022)\\Index Options\\Excel\\All Options RawData Files (GDFL)\\\\\"\n",
    "##############################################################################################"
   ]
  },
  {
   "cell_type": "code",
   "execution_count": null,
   "id": "53729baa",
   "metadata": {},
   "outputs": [
    {
     "name": "stdout",
     "output_type": "stream",
     "text": [
      "GFDLNFO_BACKADJUSTED_17012023.zip\n",
      "['/', 'GFDLNFO_BACKADJUSTED_17012023.zip', 'GFDLNFO_CONTRACT_17012023.zip']\n",
      "2023-01-17 00:00:00\n",
      "2023\n",
      "January\n",
      "17\n",
      "\\\\Imac2\\f\\All Databases\\Options (Updated as of 29122022)\\Index Options\\Excel\\All Options RawData Files (GDFL)\\\\2023\\January 2023\n",
      "                     Ticker        Date      Time   Open   High    Low  Close  \\\n",
      "0  AARTIIND23FEB23550PE.NFO  17/01/2023  09:25:59  10.25  10.25  10.25  10.25   \n",
      "1  AARTIIND23FEB23550PE.NFO  17/01/2023  10:04:59  10.75  10.75  10.75  10.75   \n",
      "2  AARTIIND23FEB23550PE.NFO  17/01/2023  10:05:59  10.05  10.05  10.05  10.05   \n",
      "3  AARTIIND23FEB23550PE.NFO  17/01/2023  10:10:59  10.00  10.00  10.00  10.00   \n",
      "4  AARTIIND23FEB23550PE.NFO  17/01/2023  10:41:59  10.00  10.00   9.45   9.45   \n",
      "\n",
      "   Volume  Open Interest  \n",
      "0     850          79050  \n",
      "1     850          79900  \n",
      "2     850          79900  \n",
      "3     850          79050  \n",
      "4    1700          78200  \n",
      "\\\\Imac2\\f\\All Databases\\Options (Updated as of 29122022)\\Index Options\\Excel\\All Options RawData Files (GDFL)\\\\2023\\January 2023\\NSEFO_17012023.csv\n"
     ]
    }
   ],
   "source": [
    "st = time.time()\n",
    "zip_file_url = zip_file_url.replace('?dl=0', '?dl=1')\n",
    "r = requests.get(zip_file_url)\n",
    "z = zipfile.ZipFile(io.BytesIO(r.content))\n",
    "z.extractall(output_path)\n",
    "#zipfile1 = zipfile.ZipFile(BytesIO(r.content))\n",
    "file_list = sorted(z.namelist())\n",
    "zip_file = file_list[1]#.replace('GFDLNFO_BACKADJUSTED', 'NSEFO')\n",
    "print(zip_file)\n",
    "print(file_list)\n",
    "\n",
    "with zipfile.ZipFile(output_path + zip_file, 'r') as zip_ref:\n",
    "    zip_ref.extractall(output_path)\n",
    "    \n",
    "date1 = datetime.strptime(zip_file[-12:-4], '%d%m%Y')\n",
    "\n",
    "date = date1\n",
    "\n",
    "'''\n",
    "month = calendar.monthcalendar(date.year, date.month)\n",
    "year=str(date.year)\n",
    "thrusday = max(month[-1][calendar.THURSDAY], month[-2][calendar.THURSDAY])\n",
    "print(thrusday)\n",
    "month=date.strftime('%B')\n",
    "if(date.day>thrusday):\n",
    "    if(month==\"December\"):\n",
    "        month=\"January\"\n",
    "        year=str(date.year+1)\n",
    "    else:\n",
    "        month=date.month+1\n",
    "        month=calendar.month_name[month]\n",
    "'''\n",
    "        \n",
    "day = date.strftime('%d')\n",
    "month=date.strftime('%B')\n",
    "nummonth=date.strftime(\"%m\")\n",
    "year = str(date.year)\n",
    "print(date)\n",
    "print(year)\n",
    "print(month)\n",
    "print(day)\n",
    "\n",
    "file_path = common_drive_path + year + '\\\\' + month + ' ' + year\n",
    "\n",
    "print(common_drive_path + year + '\\\\' + month + ' ' + year)\n",
    "if not os.path.exists(file_path):\n",
    "    os.makedirs(file_path)    \n",
    "df = pd.read_csv(output_path + zip_file.replace('.zip', '.csv'))\n",
    "print(df.head()) \n",
    "print(file_path + '\\\\' + 'NSEFO_' + date1.strftime('%d%m%Y') + '.csv')\n",
    "df.to_csv(file_path + '\\\\' + 'NSEFO_' + date1.strftime('%d%m%Y') + '.csv', index=False)\n",
    "\n",
    "et = time.time()\n",
    "print(f'Time taken to run : {(et-st):.2f} secs')"
   ]
  }
 ],
 "metadata": {
  "kernelspec": {
   "display_name": "Python 3 (ipykernel)",
   "language": "python",
   "name": "python3"
  },
  "language_info": {
   "codemirror_mode": {
    "name": "ipython",
    "version": 3
   },
   "file_extension": ".py",
   "mimetype": "text/x-python",
   "name": "python",
   "nbconvert_exporter": "python",
   "pygments_lexer": "ipython3",
   "version": "3.10.2"
  }
 },
 "nbformat": 4,
 "nbformat_minor": 5
}
