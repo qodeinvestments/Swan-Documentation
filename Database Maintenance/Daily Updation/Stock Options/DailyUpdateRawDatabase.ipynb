{
 "cells": [
  {
   "cell_type": "markdown",
   "id": "b190b75b",
   "metadata": {},
   "source": [
    "# Updated Code 16-12-2022"
   ]
  },
  {
   "cell_type": "code",
   "execution_count": 1,
   "id": "fce2c275",
   "metadata": {},
   "outputs": [],
   "source": [
    "#import the modules\n",
    "import os\n",
    "import pandas as pd\n",
    "import psycopg2\n",
    "import time\n",
    "from io import StringIO\n",
    "from datetime import datetime\n",
    "from datetime import date\n",
    "#from datetime import datetime\n",
    "import calendar"
   ]
  },
  {
   "cell_type": "code",
   "execution_count": 2,
   "id": "910690df",
   "metadata": {},
   "outputs": [
    {
     "name": "stdout",
     "output_type": "stream",
     "text": [
      "2023-01-18\n"
     ]
    }
   ],
   "source": [
    "###################################### INPUTS #############################################################\n",
    "date = date(2023, 1, 18) # date.today() #date.today()\n",
    "#date = date.today()\n",
    "###########################################################################################################\n",
    "print(date)"
   ]
  },
  {
   "cell_type": "code",
   "execution_count": 3,
   "id": "1b8ea133",
   "metadata": {},
   "outputs": [
    {
     "name": "stdout",
     "output_type": "stream",
     "text": [
      "2023-01-18\n",
      "2023\n",
      "January\n",
      "18\n",
      "NSEFO_18012023.csv\n",
      "r18012023\n",
      "18-01-2023\n",
      "[]\n",
      "Number of rows before committing :  839745\n",
      "Number of rows after committing :  839745\n",
      "sql2 done\n",
      "sql done\n",
      "elapsed_time: 15.069633960723877\n"
     ]
    }
   ],
   "source": [
    "# to store files expiry wise use this code\n",
    "'''\n",
    "month = calendar.monthcalendar(date.year, date.month)\n",
    "year=str(date.year)\n",
    "thrusday = max(month[-1][calendar.THURSDAY], month[-2][calendar.THURSDAY])\n",
    "print(thrusday)\n",
    "month=date.strftime('%B')\n",
    "if(date.day>thrusday):\n",
    "    if(month==\"December\"):\n",
    "        month=\"January\"\n",
    "        year=str(date.year+1)\n",
    "    else:\n",
    "        month=date.month+1\n",
    "        month=calendar.month_name[month]\n",
    "'''        \n",
    "day = date.strftime('%d')\n",
    "nummonth=date.strftime(\"%m\")\n",
    "year=str(date.year)\n",
    "month = date.strftime('%B')\n",
    "\n",
    "print(date)\n",
    "print(year)\n",
    "print(month)\n",
    "print(day)\n",
    "\n",
    "st=time.time()\n",
    "conn = psycopg2.connect(database=\"RawDataBase\",\n",
    "                        user='postgres', password='swancap123',\n",
    "                        host='swandatabase.cfehmk2wtejq.ap-south-1.rds.amazonaws.com', port='5432'\n",
    ")\n",
    "\n",
    "conn.autocommit = True\n",
    "cursor = conn.cursor()\n",
    "\n",
    "#read the path\n",
    "file_path = r\"\\\\iMAC2\\F\\All Databases\\Options (Updated as of 29122022)\\Index Options\\Excel\\All Options RawData Files (GDFL)\"\n",
    "#file_path = r\"C:\\Users\\ADMIN\\Downloads\\\\\"\n",
    "\n",
    "csvfile = \"NSEFO_\" + str(day) + str(nummonth) + str(date.year) + \".csv\"\n",
    "print(csvfile)\n",
    "\n",
    "file = file_path + '//' + year + '//' + month + ' ' + year \n",
    "\n",
    "df_append = pd.DataFrame()\n",
    "df = pd.read_csv(file + '//' + csvfile)\n",
    "vname = df.columns[-2]\n",
    "name = df.columns[-1]\n",
    "df[vname] = ['{:d}'.format(int(x)) for x in df[vname]]\n",
    "df[name] = ['{:d}'.format(int(x)) for x in df[name]]\n",
    "tablename = \"r\" + csvfile[-12:-4]\n",
    "\n",
    "print(tablename)\n",
    "datevalue = csvfile[-12:-4]\n",
    "Date1 = csvfile[-12:-10] + \"-\" + csvfile[-10:-8] + \"-\" + csvfile[-8:-4]\n",
    "print(Date1)\n",
    "\n",
    "sql = '''DROP TABLE IF EXISTS ''' + tablename\n",
    "cursor.execute(sql)\n",
    "\n",
    "s = '''CREATE TABLE IF NOT EXISTS ''' + tablename + '''(Ticker varchar(50) NOT NULL,Date date,Time time,Open float,High float,Low float,Close float,Volume bigint,\"Open Interest\" bigint);'''\n",
    "cursor.execute(s)\n",
    "conn.commit()\n",
    "   \n",
    "buffer = StringIO()\n",
    "  \n",
    "    \n",
    "df.to_csv(buffer, index = False)\n",
    "buffer.seek(0)\n",
    "\n",
    "sql = \"COPY %s FROM STDIN WITH CSV HEADER DELIMITER AS ','\"\n",
    "with conn.cursor() as cur:\n",
    "    #cur.execute(\"truncate \" + table + \";\")\n",
    "    cur.copy_expert(sql=sql % tablename, file=buffer)\n",
    "    conn.commit()\n",
    " \n",
    " \n",
    "    \n",
    "    \n",
    "s = '''Select 1 from rawinfo where name=\\'''' + tablename + '''\\';'''\n",
    "cursor.execute(s)\n",
    "k = cursor.fetchall()\n",
    "print(k)\n",
    "#z=k[0]\n",
    "#print(z[0])\n",
    "if(k == []):\n",
    "    sql3 ='''INSERT INTO rawinfo(NAME,Date) VALUES (%s,%s);'''\n",
    "    record_to_insert = (tablename,Date1)\n",
    "    cursor.execute(sql3,record_to_insert)\n",
    "\n",
    "print('Number of rows before committing : ', df.shape[0])\n",
    "conn.commit()\n",
    "\n",
    "s = '''Select count(*) from '''+tablename+''';'''\n",
    "cursor.execute(s)\n",
    "k=cursor.fetchall()\n",
    "print('Number of rows after committing : ', k[0][0])\n",
    "\n",
    "\n",
    "print(\"sql2 done\")\n",
    "                        \n",
    "conn.close()\n",
    "print(\"sql done\")\n",
    "et=time.time()\n",
    "\n",
    "elapsed_time=et-st;\n",
    "print(\"elapsed_time:\",elapsed_time)"
   ]
  },
  {
   "cell_type": "code",
   "execution_count": null,
   "id": "740c0da9",
   "metadata": {},
   "outputs": [],
   "source": []
  }
 ],
 "metadata": {
  "kernelspec": {
   "display_name": "Python 3 (ipykernel)",
   "language": "python",
   "name": "python3"
  },
  "language_info": {
   "codemirror_mode": {
    "name": "ipython",
    "version": 3
   },
   "file_extension": ".py",
   "mimetype": "text/x-python",
   "name": "python",
   "nbconvert_exporter": "python",
   "pygments_lexer": "ipython3",
   "version": "3.10.2"
  }
 },
 "nbformat": 4,
 "nbformat_minor": 5
}
