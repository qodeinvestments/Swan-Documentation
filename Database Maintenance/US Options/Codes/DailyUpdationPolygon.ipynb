{
 "cells": [
  {
   "cell_type": "code",
   "execution_count": 12,
   "id": "904f7810-a0f0-4759-84e5-2b14d579c959",
   "metadata": {},
   "outputs": [],
   "source": [
    "from polygon import RESTClient\n",
    "# import polygon\n",
    "import pandas as pd\n",
    "import warnings\n",
    "warnings.filterwarnings(\"ignore\")\n",
    "from tqdm.notebook import tqdm\n",
    "import numpy as np\n",
    "from datetime import datetime, timedelta, date\n",
    "import time\n",
    "\n",
    "from pandas.tseries.holiday import AbstractHolidayCalendar, Holiday, nearest_workday, \\\n",
    "    USMartinLutherKingJr, USPresidentsDay, GoodFriday, USMemorialDay, \\\n",
    "    USLaborDay, USThanksgivingDay\n",
    "\n",
    "client = RESTClient(api_key=\"LWTCy8ovzCTqIq4fdBxFmoTptFxZ2pAo\")"
   ]
  },
  {
   "cell_type": "markdown",
   "id": "ae24ebd1-4cea-44d9-9741-1be68d6a8df5",
   "metadata": {},
   "source": [
    "## INTRADAY-DATA UNDERLYING"
   ]
  },
  {
   "cell_type": "code",
   "execution_count": 29,
   "id": "f171b71f-f5a1-45ca-9ac5-ecb1567afdc7",
   "metadata": {},
   "outputs": [
    {
     "name": "stdout",
     "output_type": "stream",
     "text": [
      "Dates are already present in the main file\n",
      "Break\n"
     ]
    }
   ],
   "source": [
    "## File path where EOD data is present and you want to append today's data to.\n",
    "df = pd.read_csv(r\"C:\\Data\\USData\\Underlying\\1min\\SPY.csv\")\n",
    "ticker = \"SPY\"\n",
    "\n",
    "df['Date'] = pd.to_datetime(df['Date'],format='mixed',dayfirst=True)\n",
    "## for daily updation\n",
    "end_date = date.today()\n",
    "current_day,current_month,current_year = end_date.strftime('%d'),end_date.strftime(\"%m\"),end_date.strftime('%Y')\n",
    "end_date_format = current_year+'-'+current_month+'-'+current_day\n",
    "start_date_format = current_year+'-'+current_month+'-'+str(int(current_day)-1)\n",
    "\n",
    "## in case you want data for a range of dates\n",
    "# start_date_format = '2023-10-23'\n",
    "# end_date_format = '2023-10-25'\n",
    "\n",
    "## timespan = Day | minute | hours \n",
    "\n",
    "aggs = []\n",
    "for a in client.list_aggs(ticker=ticker, multiplier=1, timespan=\"minute\", from_=start_date_format, to=end_date_format, limit=50000):\n",
    "    aggs.append(a)\n",
    "\n",
    "aggsDataframe = pd.DataFrame(aggs)\n",
    "aggsDataframe['Date'] = pd.to_datetime(aggsDataframe['timestamp'],unit='ms')\n",
    "aggsDataframe['Time'] = aggsDataframe['Date'].dt.time\n",
    "aggsDataframe['Date'] = aggsDataframe['Date'].dt.date\n",
    "aggsDataframe['Ticker'] = ticker + '.EQ'\n",
    "aggsDataframe = aggsDataframe[['Ticker','Date','Time','open','high','low','close','volume','vwap','transactions','otc']]\n",
    "final_df = pd.concat([df,aggsDataframe],ignore_index=True)\n",
    "final_df.drop_duplicates(inplace=True)\n",
    "\n",
    "date_list = aggsDataframe['Date'].unique()\n",
    "inception_date_list = df['Date'].dt.date.unique()\n",
    "\n",
    "if any(x in date_list for x in inception_date_list):\n",
    "    print(\"Dates are already present in the main file\")\n",
    "    print(\"Break\")\n",
    "\n",
    "else:\n",
    "    if final_df.shape[0] == df.shape[0] + aggsDataframe.shape[0]:\n",
    "        print(\"Sanity Check success\")\n",
    "        aggsDataframe.to_csv(r\"C:\\Data\\USData\\Underlying\\1min\\SPY.csv\",mode='a', header = not os.path.exists(r\"C:\\Data\\USData\\Underlying\\1min\\SPY.csv\"),index=False)\n",
    "    else:\n",
    "        print(\"Error\")\n",
    "        print(\"Appended 1min data till latest available.\")"
   ]
  },
  {
   "cell_type": "markdown",
   "id": "543cbcea-781f-4988-af70-cd789ea56e80",
   "metadata": {},
   "source": [
    "## INTRADAY-DATA UNDERLYING"
   ]
  },
  {
   "cell_type": "code",
   "execution_count": 27,
   "id": "8a15e35e-e855-446f-b771-aa1f19987226",
   "metadata": {},
   "outputs": [
    {
     "name": "stdout",
     "output_type": "stream",
     "text": [
      "Dates are already present in the main file\n",
      "Break\n"
     ]
    }
   ],
   "source": [
    "## File path where EOD data is present and you want to append today's data to.\n",
    "df = pd.read_csv(r\"C:\\Data\\USData\\Underlying\\1min\\SPY.csv\")\n",
    "ticker = \"SPY\"\n",
    "\n",
    "df['Date'] = pd.to_datetime(df['Date'],format='mixed',dayfirst=True)\n",
    "\n",
    "## for daily updation\n",
    "end_date = date.today()\n",
    "current_day,current_month,current_year = end_date.strftime('%d'),end_date.strftime(\"%m\"),end_date.strftime('%Y')\n",
    "end_date_format = current_year+'-'+current_month+'-'+current_day\n",
    "start_date_format = current_year+'-'+current_month+'-'+str(int(current_day)-1)\n",
    "\n",
    "## in case you want data for a range of dates\n",
    "# start_date_format = '2023-10-23'\n",
    "# end_date_format = '2023-10-25'\n",
    "\n",
    "## timespan = Day | minute | hours \n",
    "\n",
    "aggs = []\n",
    "for a in client.list_aggs(ticker=ticker, multiplier=1, timespan=\"minute\", from_=start_date_format, to=end_date_format, limit=50000):\n",
    "    aggs.append(a)\n",
    "\n",
    "aggsDataframe = pd.DataFrame(aggs)\n",
    "aggsDataframe['Date'] = pd.to_datetime(aggsDataframe['timestamp'],unit='ms')\n",
    "aggsDataframe['Time'] = aggsDataframe['Date'].dt.time\n",
    "aggsDataframe['Date'] = aggsDataframe['Date'].dt.date\n",
    "aggsDataframe['Ticker'] = ticker + '.EQ'\n",
    "aggsDataframe = aggsDataframe[['Ticker','Date','Time','open','high','low','close','volume','vwap','transactions','otc']]\n",
    "final_df = pd.concat([df,aggsDataframe],ignore_index=True)\n",
    "final_df.drop_duplicates(inplace=True)\n",
    "\n",
    "date_list = aggsDataframe['Date'].unique()\n",
    "inception_date_list = df['Date'].dt.date.unique()\n",
    "\n",
    "if any(x in date_list for x in inception_date_list):\n",
    "    print(\"Dates are already present in the main file\")\n",
    "    print(\"Break\")\n",
    "else:\n",
    "    if final_df.shape[0] == df.shape[0] + aggsDataframe.shape[0]:\n",
    "        print(\"Sanity Check success\")\n",
    "        aggsDataframe.to_csv(r\"C:\\Data\\USData\\Underlying\\1min\\SPY.csv\",mode='a', header = not os.path.exists(r\"C:\\Data\\USData\\Underlying\\1min\\SPY.csv\"),index=False)\n",
    "    else:\n",
    "        print(\"Error\")\n",
    "        \n",
    "    print(\"Appended 1min data till latest available.\")"
   ]
  },
  {
   "cell_type": "markdown",
   "id": "95c07739-099b-44aa-95de-75b3339aca45",
   "metadata": {},
   "source": [
    "## GETTING DAILY EXPIRY WISE CONTRACTS"
   ]
  },
  {
   "cell_type": "code",
   "execution_count": 10,
   "id": "1281452f-dd87-4e86-9aa6-8d0d56a5b50c",
   "metadata": {},
   "outputs": [
    {
     "data": {
      "application/vnd.jupyter.widget-view+json": {
       "model_id": "d093a362c55647ceb1329e0ea54fe0a5",
       "version_major": 2,
       "version_minor": 0
      },
      "text/plain": [
       "0it [00:00, ?it/s]"
      ]
     },
     "metadata": {},
     "output_type": "display_data"
    },
    {
     "data": {
      "application/vnd.jupyter.widget-view+json": {
       "model_id": "470c6b87e4014987839eae0da749e987",
       "version_major": 2,
       "version_minor": 0
      },
      "text/plain": [
       "  0%|          | 0/280 [00:00<?, ?it/s]"
      ]
     },
     "metadata": {},
     "output_type": "display_data"
    },
    {
     "data": {
      "application/vnd.jupyter.widget-view+json": {
       "model_id": "207fc858e6db42d2bed28494d4b3b80b",
       "version_major": 2,
       "version_minor": 0
      },
      "text/plain": [
       "  0%|          | 0/11 [00:00<?, ?it/s]"
      ]
     },
     "metadata": {},
     "output_type": "display_data"
    },
    {
     "name": "stdout",
     "output_type": "stream",
     "text": [
      "Creating continuous contracts and labelling.\n",
      "DTE 0\n",
      "DTE 1\n",
      "DTE 3\n",
      "DTE 4\n",
      "DTE 5\n",
      "Daily continuous contracts created and saved.\n",
      "Total time taken 175.18\n"
     ]
    }
   ],
   "source": [
    "## NOTE - The date entered here, will basically give data for the previous day and not the data given as an input\n",
    "\n",
    "end_date = date.today()\n",
    "current_day,current_month,current_year = end_date.strftime('%d'),end_date.strftime(\"%m\"),end_date.strftime('%Y')\n",
    "end_date_format = current_year+'-'+current_month+'-'+current_day\n",
    "start_date_format = current_year+'-'+current_month+'-'+str(int(current_day)-1)\n",
    "\n",
    "def getting_rawdata():\n",
    "    contract_names = []\n",
    "    for c in tqdm(client.list_options_contracts(underlying_ticker = 'SPY',expiration_date_gte=start_date_format,expiration_date_lt=end_date_format,limit=1000,expired='true')):\n",
    "        contract_names.append(c)\n",
    "    # contract_names\n",
    "    \n",
    "    final_df = pd.DataFrame()\n",
    "    for i in tqdm(contract_names):\n",
    "        try:\n",
    "            dailyOptionData = client.get_aggs(ticker=i.ticker,\n",
    "                                             multiplier=1,\n",
    "                                             timespan='minute',\n",
    "                                             from_='2021-01-01',\n",
    "                                             to=end_date_format,\n",
    "                                             limit=50000)\n",
    "            optionDataFrame = pd.DataFrame(dailyOptionData)\n",
    "            if optionDataFrame.empty == True:\n",
    "                continue\n",
    "            else:\n",
    "                optionDataFrame['Ticker'] = i.ticker\n",
    "                final_df = pd.concat([final_df,optionDataFrame],ignore_index=True)\n",
    "        except:\n",
    "            pass\n",
    "            \n",
    "    final_df['Date'] = pd.to_datetime(final_df['timestamp'],unit='ms')\n",
    "    final_df['Time'] = final_df['Date'].dt.time\n",
    "    final_df['Date'] = final_df['Date'].dt.date\n",
    "    final_df = final_df.sort_values(by=['Date'])\n",
    "    return final_df\n",
    "\n",
    "\n",
    "def holiday_list():\n",
    "    class USTradingCalendar(AbstractHolidayCalendar):\n",
    "        rules = [\n",
    "            Holiday('NewYearsDay', month=1, day=1, observance=nearest_workday),\n",
    "            USMartinLutherKingJr,\n",
    "            USPresidentsDay,\n",
    "            GoodFriday,\n",
    "            USMemorialDay,\n",
    "            Holiday('USIndependenceDay', month=7, day=4, observance=nearest_workday),\n",
    "            USLaborDay,\n",
    "            USThanksgivingDay,\n",
    "            Holiday('Christmas', month=12, day=25, observance=nearest_workday),\n",
    "            Holiday('JuneteenthNationalIndependenceDay', month=6, day=19, observance=nearest_workday)\n",
    "        ]\n",
    "    \n",
    "    \n",
    "    def get_trading_close_holidays(year):\n",
    "        inst = USTradingCalendar()\n",
    "    \n",
    "        return inst.holidays(datetime(year-1, 12, 31), datetime(year, 12, 31))\n",
    "    \n",
    "    \n",
    "    if __name__ == '__main__':\n",
    "        holiday_list = []\n",
    "        year_range = int(int(current_year) - 2)\n",
    "        for i in range(3):\n",
    "            holiday_list.append(get_trading_close_holidays(year_range).date)\n",
    "            year_range+=1\n",
    "    \n",
    "    new_list = []\n",
    "    for i in range(len(holiday_list[:])):\n",
    "        for j in range(len(holiday_list[i][:])):\n",
    "            new_list.append(holiday_list[i][j])\n",
    "    new_list = [date_obj.strftime('%Y%m%d') for date_obj in new_list]\n",
    "    holiday_set = sorted(list(set(new_list)))\n",
    "    # print(holiday_set)\n",
    "    return holiday_set\n",
    "\n",
    "def contract_creation():\n",
    "    options_data = getting_rawdata()\n",
    "    # options_data.to_csv(rf'C:\\users\\admin\\desktop\\SPY_{end_date}.csv',index=False)\n",
    "    \n",
    "    # Sort the options data by date and time\n",
    "    options_data['Date'] = pd.to_datetime(options_data['Date'])\n",
    "    options_data['Expiry_Dates'] = pd.to_datetime(options_data['Ticker'].str[5:11],format='%y%m%d')\n",
    "    options_data['Strike'] = options_data['Ticker'].str[-8:-3]\n",
    "    # options_data = options_data.sort_values(by=['Date', 'Expiry_Dates', 'Strike'])\n",
    "    \n",
    "    # Create a list of unique expiration dates\n",
    "    expiration_dates = options_data['Expiry_Dates'].unique()\n",
    "    \n",
    "    # Initialize a DataFrame to store the daily continuous contracts\n",
    "    daily_continuous_contracts = []\n",
    "    \n",
    "    # Iterate through each trading day\n",
    "    for trading_day in tqdm(pd.date_range(start=options_data['Date'].min(), end=options_data['Date'].max(), freq='B')):\n",
    "        # Filter options data for the current trading day\n",
    "        daily_data = options_data[(options_data['Date'].dt.date == trading_day.date())]\n",
    "    \n",
    "        for expiration_date in expiration_dates:\n",
    "            contract_data = daily_data[daily_data['Expiry_Dates'] == expiration_date]\n",
    "            start,end = contract_data['Date'].dt.date.unique(),contract_data['Expiry_Dates'].dt.date.unique()\n",
    "            if contract_data.empty == True:\n",
    "                continue\n",
    "            start,end = contract_data['Date'].dt.date.unique(),contract_data['Expiry_Dates'].dt.date.unique()\n",
    "            start = [date_obj.strftime('%Y-%m-%d') for date_obj in start]\n",
    "            end = [date_obj.strftime('%Y-%m-%d') for date_obj in end]\n",
    "            dte = np.busday_count(start,end,holidays=holiday_set)\n",
    "            # print(expiration_date,start,end,dte)\n",
    "            contract_data['DTE'] = dte[0]\n",
    "            \n",
    "            daily_continuous_contracts.append(contract_data)\n",
    "    \n",
    "    # Concatenate all daily continuous contracts into a single DataFrame\n",
    "    daily_continuous_contract = pd.concat(daily_continuous_contracts)\n",
    "    \n",
    "    # Sort the continuous contract by date and time\n",
    "    daily_continuous_contract = daily_continuous_contract.sort_values(by=['Date', 'Expiry_Dates', 'Strike'])\n",
    "    \n",
    "    # Save the daily continuous contract to a CSV file\n",
    "    # daily_continuous_contract.to_csv(r\"C:\\Data\\USData\\Continuous_Contracts\\AllContracts\\\\Daily_continuous_SPY_options_data.csv\", index=False)\n",
    "    \n",
    "    print(\"Creating continuous contracts and labelling.\")\n",
    "    weekly_groups = daily_continuous_contract.groupby('DTE')\n",
    "    unique_values = list(daily_continuous_contract['DTE'].unique())\n",
    "    unique_values = sorted([a for a in unique_values if a>=0 and a<=5])\n",
    "    for i in sorted(unique_values):\n",
    "        print(f'DTE {i}')\n",
    "        dte_df = weekly_groups.get_group(i).sort_values(by=['Date']).reset_index(drop=True)\n",
    "        dte_df['New_Ticker'] = dte_df['Ticker'].str[:5] + f'D{i}' + dte_df['Ticker'].str[11:]\n",
    "        # display(dte_df)\n",
    "        # dte_df.to_csv(rf\"C:\\Data\\USData\\Continuous_Contracts\\DailyContracts\\DTE{i}.csv\",index=False)\n",
    "        dte_df.to_csv(rf\"C:\\users\\admin\\desktop\\DTE{i}.csv\",index=False)\n",
    "    print(\"Daily continuous contracts created and saved.\")\n",
    "\n",
    "st = time.time()\n",
    "holiday_set = holiday_list()\n",
    "contract_creation()\n",
    "et = time.time()\n",
    "print(\"Total time taken\",f'{(et-st):0,.2f} seconds.')"
   ]
  },
  {
   "cell_type": "code",
   "execution_count": 3,
   "id": "b95388f5",
   "metadata": {},
   "outputs": [],
   "source": []
  }
 ],
 "metadata": {
  "kernelspec": {
   "display_name": "Python 3 (ipykernel)",
   "language": "python",
   "name": "python3"
  },
  "language_info": {
   "codemirror_mode": {
    "name": "ipython",
    "version": 3
   },
   "file_extension": ".py",
   "mimetype": "text/x-python",
   "name": "python",
   "nbconvert_exporter": "python",
   "pygments_lexer": "ipython3",
   "version": "3.11.4"
  }
 },
 "nbformat": 4,
 "nbformat_minor": 5
}
